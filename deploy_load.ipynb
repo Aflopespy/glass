{
 "cells": [
  {
   "cell_type": "code",
   "execution_count": 10,
   "id": "ca41508a-c6e7-4d87-a78c-a0e3d762a452",
   "metadata": {},
   "outputs": [],
   "source": [
    "import pandas as pd\n",
    "import numpy as np\n",
    "import pickle\n",
    "\n",
    "def pred(compostos):\n",
    "    \n",
    "    \"\"\"\n",
    "    - 1. A função prediz Tliquidus, viscosidade em Tliquidus e GFA \n",
    "    (calculada a partir dos dois parâmetros pelo modelo Jezica: GFA = n(Tl)/Tlˆ2)\n",
    "\n",
    "    - 2. A função prediz diretamente GFA\n",
    "\n",
    "    Parametros:\n",
    "    - compostos: dicionário ou DataFrame contendo a fração de 25 óxidos na composição (input)\n",
    "    - a função carrega três modelos de ML (Random Forest) e utiliza para prever os parâmetros\n",
    "    \n",
    "    Returns:\n",
    "    - T_liqudius, viscosidade em T_liquidus, GFA (método indireto) e GFA (método direto)\n",
    "    \n",
    "    \"\"\"\n",
    "\n",
    "    if type(compostos) == dict:\n",
    "        \n",
    "        df = pd.DataFrame([compostos])\n",
    "        \n",
    "    else:\n",
    "\n",
    "        df = compostos.copy()\n",
    "        \n",
    "\n",
    "    # Predizer tl\n",
    "    pred_tl = pickle.load(open('rf_tliquidus','rb'))\n",
    "    tliq = pred_tl.predict(df)\n",
    "\n",
    "    # Predizer visc_tl\n",
    "    pred_n = pickle.load(open('rf_visc_liquidus','rb'))\n",
    "    visc_parcial = pred_n.predict(df)\n",
    "\n",
    "    visc = np.power(10, visc_parcial)\n",
    "\n",
    "    # Obter GFA (método indireto)\n",
    "    GFA_1 = visc / (tliq ** 2)\n",
    "\n",
    "    # Caminho 2 (predizer GFA)\n",
    "    pred_gfa = pickle.load(open('rf_gfa','rb'))\n",
    "    GFA_parcial = pred_gfa.predict(df)\n",
    "\n",
    "    # Obter GFA (método direto)\n",
    "    GFA_2 = np.power(10, GFA_parcial)\n",
    "\n",
    "    return float(tliq[0]), float(visc[0]), float(GFA_1[0]), float(GFA_2[0])"
   ]
  },
  {
   "cell_type": "code",
   "execution_count": 11,
   "id": "2452fd45-5e46-4ac9-9c9c-b0fbf6095d38",
   "metadata": {},
   "outputs": [],
   "source": [
    "# O dicionário de exemplo contém os 25 óxidos usados para treinar o modelo\n",
    "# Altere a fração de composição para obter uma previsão de Tliquidus, de viscosidade em Tliquidus e duas previsões de GFA\n",
    "\n",
    "example_dict = {'SiO2': 73.19, 'P2O5': 0.0, 'ZrO2': 0.0, 'Na2O': 15.11, 'Al2O3': 0.12, 'Fe2O3': 0.0, 'CaO': 8.62, 'MgO': 2.96, \n",
    "                'K2O': 0.0, 'MnO': 0.0, 'Li2O': 0.0, 'ZnO': 0.0, 'SrO': 0.0, 'SnO2': 0.0, 'B2O3': 0.0, 'La2O3': 0.0, 'Y2O3': 0.0, \n",
    "                'TiO2': 0.0, 'Nb2O5': 0.0, 'Sb2O3': 0.0, 'BaO': 0.0, 'CeO2': 0.0, 'As2O3': 0.0, 'FeO': 0.0, 'In2O3': 0.0}"
   ]
  },
  {
   "cell_type": "code",
   "execution_count": 12,
   "id": "2f60f42f-f686-4f25-b6ea-5235da9a1337",
   "metadata": {},
   "outputs": [
    {
     "name": "stdout",
     "output_type": "stream",
     "text": [
      "A Tliquidus e a Viscosidade em Tliquidus previstas são 1269.7 K e 1292.6 em Pa. s\n",
      "A GFA prevista pelo método indireto é de 0.000802 e pelo método direto é de 0.000758\n"
     ]
    }
   ],
   "source": [
    "t_liquidus, visc_tliquidus, GFA_indireto, GFA_direto = pred(example_dict)\n",
    "print('A Tliquidus e a Viscosidade em Tliquidus previstas são {:.1f} K e {:.1f} em Pa. s'.format(t_liquidus, visc_tliquidus))\n",
    "print('A GFA prevista pelo método indireto é de {:.6f} e pelo método direto é de {:.6f}'.format(GFA_indireto, GFA_direto))"
   ]
  },
  {
   "cell_type": "code",
   "execution_count": 13,
   "id": "2ad97a66-13b9-4fbf-990d-362b924125de",
   "metadata": {},
   "outputs": [],
   "source": [
    "# O dataframe de exemplo contém os 25 óxidos usados para treinar o modelo\n",
    "# Altere a fração de composição para obter uma previsão de Tliquidus, de viscosidade em Tliquidus e duas previsões de GFA\n",
    "\n",
    "example_df = pd.DataFrame([{'SiO2': 73.19, 'P2O5': 0.0, 'ZrO2': 0.0, 'Na2O': 15.11, 'Al2O3': 0.12, 'Fe2O3': 0.0, 'CaO': 8.62, 'MgO': 2.96, \n",
    "                'K2O': 0.0, 'MnO': 0.0, 'Li2O': 0.0, 'ZnO': 0.0, 'SrO': 0.0, 'SnO2': 0.0, 'B2O3': 0.0, 'La2O3': 0.0, 'Y2O3': 0.0, \n",
    "                'TiO2': 0.0, 'Nb2O5': 0.0, 'Sb2O3': 0.0, 'BaO': 0.0, 'CeO2': 0.0, 'As2O3': 0.0, 'FeO': 0.0, 'In2O3': 0.0}])"
   ]
  },
  {
   "cell_type": "code",
   "execution_count": 14,
   "id": "067c4245-2964-4b2d-bb0f-676fbc174071",
   "metadata": {},
   "outputs": [
    {
     "name": "stdout",
     "output_type": "stream",
     "text": [
      "A Tliquidus e a Viscosidade em Tliquidus previstas são 1269.7 K e 1292.6 em Pa. s\n",
      "A GFA prevista pelo método indireto é de 0.000802 e pelo método direto é de 0.000758\n"
     ]
    }
   ],
   "source": [
    "t_liquidus, visc_tliquidus, GFA_indireto, GFA_direto = pred(example_df)\n",
    "print('A Tliquidus e a Viscosidade em Tliquidus previstas são {:.1f} K e {:.1f} em Pa. s'.format(t_liquidus, visc_tliquidus))\n",
    "print('A GFA prevista pelo método indireto é de {:.6f} e pelo método direto é de {:.6f}'.format(GFA_indireto, GFA_direto))"
   ]
  }
 ],
 "metadata": {
  "kernelspec": {
   "display_name": "Python 3 (ipykernel)",
   "language": "python",
   "name": "python3"
  },
  "language_info": {
   "codemirror_mode": {
    "name": "ipython",
    "version": 3
   },
   "file_extension": ".py",
   "mimetype": "text/x-python",
   "name": "python",
   "nbconvert_exporter": "python",
   "pygments_lexer": "ipython3",
   "version": "3.9.5"
  }
 },
 "nbformat": 4,
 "nbformat_minor": 5
}
